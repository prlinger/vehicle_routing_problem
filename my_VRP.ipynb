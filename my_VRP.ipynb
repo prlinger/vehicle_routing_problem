{
 "cells": [
  {
   "cell_type": "markdown",
   "id": "903a0549",
   "metadata": {},
   "source": [
    "# My VRP\n",
    "\n",
    "My implementation of the Capacitated Vehicle Routing Problem (CVRP) based on the formulation given on the [wikipedia page for VRPs](https://en.wikipedia.org/wiki/Vehicle_routing_problem).\n",
    "\n",
    "![wikipediaFormulation](./images/wikipediaFormulation.png)\n",
    "\n",
    "#### Notes:\n",
    "A distance matrix is an array whose i, j entry is the distance from location i to location j in miles, where the array indices correspond to the locations in order.\n",
    "\n",
    "#### References/Resources:\n",
    "- https://en.wikipedia.org/wiki/Vehicle_routing_problem\n",
    "- https://developers.google.com/optimization/cp/cp_solver\n",
    "- https://developers.google.com/optimization/mip/mip_var_array\n",
    "- https://google.github.io/or-tools/python/ortools/sat/python/cp_model.html\n"
   ]
  },
  {
   "cell_type": "code",
   "execution_count": 177,
   "id": "df9e0d40",
   "metadata": {},
   "outputs": [],
   "source": [
    "# Requires Python version >= 3.8\n",
    "import math\n",
    "from itertools import chain, combinations\n",
    "from ortools.sat.python import cp_model"
   ]
  },
  {
   "cell_type": "code",
   "execution_count": 201,
   "id": "0663e5c5",
   "metadata": {},
   "outputs": [],
   "source": [
    "# Constants:\n",
    "vehicleCount = 4\n",
    "vehicleCapacity = 40\n",
    "nodeCapacity = 10"
   ]
  },
  {
   "cell_type": "code",
   "execution_count": 210,
   "id": "791aafed",
   "metadata": {},
   "outputs": [],
   "source": [
    "class VRPGraph:\n",
    "    nodes = None  # an array of coordinates.  nodes[0] is the depot.\n",
    "    distanceMatrix = None\n",
    "    nodeSubsets = None  # A set of sets of nodes\n",
    "    minVehicleCounts = None  # A dict; the keys are sets of nodes; the values are integers\n",
    "    \n",
    "    \n",
    "    def __init__(self, nodes):\n",
    "        \"\"\"\n",
    "        Assumes nodes[0] is the depot.\n",
    "        \"\"\"\n",
    "        self.nodes = nodes\n",
    "        self.distanceMatrix = self.nodesToDistanceMatrix(self.nodes)\n",
    "        self.nodeSubsets = self.calculateNodeSubsets(self.nodes)\n",
    "        self.minVehicleCounts = self.calculateMinVehicleCounts(self.nodeSubsets)\n",
    "        \n",
    "        \n",
    "    def nodesToDistanceMatrix(self, nodes):\n",
    "        \"\"\"\n",
    "        Calculate distances between each nodes as an integer.\n",
    "        The number of operations is the sum of natural numbers up to (n-1) \n",
    "        where n is the number of nodes. This is O(n^2).\n",
    "        \"\"\"\n",
    "        numNodes = len(nodes)\n",
    "        \n",
    "        # initialize the nxn matrix:\n",
    "        distanceMatrix = [[0 for x in range(numNodes)] for y in range(numNodes)]\n",
    "        \n",
    "        for i in range(0, numNodes):\n",
    "            for j in range(i, numNodes):\n",
    "                curDist = int(math.dist(nodes[i], nodes[j]))\n",
    "                distanceMatrix[i][j] = curDist\n",
    "                distanceMatrix[j][i] = curDist\n",
    "        \n",
    "        return distanceMatrix\n",
    "    \n",
    "    \n",
    "    def calculateNodeSubsets(self, nodes):\n",
    "        \"\"\"\n",
    "        Calculate all possible subsets from the set (nodes - depot).\n",
    "        Use the numbering of the nodes instead of the node itself.\n",
    "        e.g. instead of depot at (0,0), use 0\n",
    "        Reference: https://docs.python.org/3/library/itertools.html#itertools-recipes\n",
    "        e.g. [1,2,3] --> (1,) (2,) (3,) (1,2) (1,3) (2,3) (1,2,3)\n",
    "        \"\"\"\n",
    "        s = range(1, len(nodes))  # all nodes minus depot\n",
    "        subsets = set(chain.from_iterable(combinations(s, r) for r in range(len(s)+1)))\n",
    "        subsets.remove(())  # remove the empty set.  That is, ().\n",
    "        return subsets\n",
    "    \n",
    "    \n",
    "    def calculateMinVehicleCounts(self, nodeSubsets):\n",
    "        \"\"\"\n",
    "        Calculate the minimum number of vehicles needed to serve each subset.\n",
    "        - This is trivial right now.  Will need another implementation if node\n",
    "            capacity varies.\n",
    "        \"\"\"\n",
    "        minVehicleCounts = {}\n",
    "        for subset in nodeSubsets:\n",
    "            minVehicleCounts[subset] = int(math.ceil((nodeCapacity * len(subset)) / vehicleCapacity))\n",
    "            \n",
    "        return minVehicleCounts\n",
    "        "
   ]
  },
  {
   "cell_type": "code",
   "execution_count": 203,
   "id": "57011d3e",
   "metadata": {},
   "outputs": [],
   "source": [
    "myCoords1 = [\n",
    "    (0, 0),  # The depot\n",
    "    (-10, 10),\n",
    "    (20, 10),\n",
    "    (10, -5),\n",
    "    (-5, -5)\n",
    "]\n",
    "\n",
    "myCoords2 = [\n",
    "    (0, 0),  # The depot\n",
    "    (-10, 10),\n",
    "    (20, 10),\n",
    "    (10, -5),\n",
    "    (-15, -25),\n",
    "    (-30, 0),\n",
    "    (40, 0),\n",
    "    (15, -15),\n",
    "    (-45, 20)\n",
    "]\n",
    "\n",
    "myVRPGraph = VRPGraph(myCoords2)\n",
    "# print(myVRPGraph.distanceMatrix)\n",
    "# print(myVRPGraph.nodeSubsets)\n",
    "# print(myVRPGraph.minVehicleCounts)\n",
    "\n"
   ]
  },
  {
   "cell_type": "markdown",
   "id": "ebb36300",
   "metadata": {},
   "source": [
    "#### Create Model and Variables"
   ]
  },
  {
   "cell_type": "code",
   "execution_count": 204,
   "id": "23635cdc",
   "metadata": {},
   "outputs": [],
   "source": [
    "model = cp_model.CpModel()\n",
    "\n",
    "iMax = len(myVRPGraph.nodes)\n",
    "jMax = iMax\n",
    "\n",
    "# Create the x_ij variables:\n",
    "xVars = []\n",
    "for i in range(0, iMax):\n",
    "    xVars.append([])\n",
    "    for j in range(0, jMax):\n",
    "        xVars[i].append(model.NewBoolVar(name='x_{}_{}'.format(i, j)))\n"
   ]
  },
  {
   "cell_type": "markdown",
   "id": "17892b95",
   "metadata": {},
   "source": [
    "#### Define the constraints"
   ]
  },
  {
   "cell_type": "code",
   "execution_count": 205,
   "id": "9f2739ee",
   "metadata": {},
   "outputs": [],
   "source": [
    "# Constraint 1:\n",
    "for j in range(1, jMax):\n",
    "    # Sum cols of xVars\n",
    "    model.Add(cp_model.LinearExpr.Sum(\n",
    "        [xVars[i][j] for i in range(0, iMax)]) == 1)\n",
    "\n",
    "# Constraint 2:\n",
    "for i in range(1, iMax):\n",
    "    # Sum rows of xVars\n",
    "    model.Add(cp_model.LinearExpr.Sum(xVars[i][:]) == 1)\n",
    "    \n",
    "# Constraint 3:\n",
    "model.Add(cp_model.LinearExpr.Sum(\n",
    "    [xVars[i][0] for i in range(0, iMax)]) == vehicleCount)\n",
    "\n",
    "# Constraint 4:\n",
    "model.Add(cp_model.LinearExpr.Sum(xVars[0][:]) == vehicleCount)\n",
    "\n",
    "# Constraint 5:\n",
    "numNodes = len(myVRPGraph.nodes)\n",
    "for subset in myVRPGraph.minVehicleCounts:\n",
    "    complement = set(range(0, numNodes)) - set(subset)  # full set minus subset\n",
    "    model.Add(cp_model.LinearExpr.Sum(\n",
    "        [xVars[i][j] for i in complement for j in subset])\n",
    "        >= myVRPGraph.minVehicleCounts[subset])\n",
    "\n",
    "# Note, constraint 6 is captured by using NewBoolVar() to create variables."
   ]
  },
  {
   "cell_type": "markdown",
   "id": "a317acbe",
   "metadata": {},
   "source": [
    "#### Set Objective"
   ]
  },
  {
   "cell_type": "code",
   "execution_count": 206,
   "id": "e915bd29",
   "metadata": {},
   "outputs": [],
   "source": [
    "# Can use LinearExpr to create the constraints and objective from arrays of coefficients.\n",
    "objective = cp_model.LinearExpr.ScalProd(\n",
    "    expressions=[xVars[i][j] for i in range(iMax) for j in range(jMax)],\n",
    "    coefficients=[myVRPGraph.distanceMatrix[i][j] for i in range(iMax) for j in range(jMax)]\n",
    ")\n",
    "\n",
    "model.Minimize(objective)\n"
   ]
  },
  {
   "cell_type": "markdown",
   "id": "042ec882",
   "metadata": {},
   "source": [
    "#### Solve and print solution (if found)"
   ]
  },
  {
   "cell_type": "code",
   "execution_count": 207,
   "id": "49c3099e",
   "metadata": {},
   "outputs": [
    {
     "name": "stdout",
     "output_type": "stream",
     "text": [
      "Minimum of objective function: 249.0\n",
      "\n",
      "- - - - x_0_j - - - -\n",
      "[1, 0, 1, 1, 1, 0, 0, 0, 0]\n",
      "- - - - x_1_j - - - -\n",
      "[1, 0, 0, 0, 0, 0, 0, 0, 0]\n",
      "- - - - x_2_j - - - -\n",
      "[0, 0, 0, 0, 0, 0, 1, 0, 0]\n",
      "- - - - x_3_j - - - -\n",
      "[1, 0, 0, 0, 0, 0, 0, 0, 0]\n",
      "- - - - x_4_j - - - -\n",
      "[0, 0, 0, 0, 0, 1, 0, 0, 0]\n",
      "- - - - x_5_j - - - -\n",
      "[0, 0, 0, 0, 0, 0, 0, 0, 1]\n",
      "- - - - x_6_j - - - -\n",
      "[0, 0, 0, 0, 0, 0, 0, 1, 0]\n",
      "- - - - x_7_j - - - -\n",
      "[1, 0, 0, 0, 0, 0, 0, 0, 0]\n",
      "- - - - x_8_j - - - -\n",
      "[0, 1, 0, 0, 0, 0, 0, 0, 0]\n"
     ]
    }
   ],
   "source": [
    "solver = cp_model.CpSolver()\n",
    "status = solver.Solve(model)\n",
    "\n",
    "if status == cp_model.OPTIMAL or status == cp_model.FEASIBLE:\n",
    "    print(f'Minimum of objective function: {solver.ObjectiveValue()}\\n')\n",
    "    for i in range(iMax):\n",
    "        print('- - - - x_{}_j - - - -'.format(i))\n",
    "        print([solver.Value(xVars[i][j]) for j in range(jMax)])\n",
    "else:\n",
    "    print('No solution found.')"
   ]
  },
  {
   "cell_type": "markdown",
   "id": "d2dcd133",
   "metadata": {},
   "source": [
    "#### Visualize the graph and routes"
   ]
  },
  {
   "cell_type": "code",
   "execution_count": 209,
   "id": "23beb69f",
   "metadata": {},
   "outputs": [
    {
     "data": {
      "image/png": "[encoded data removed]",
      "text/plain": [
       "<Figure size 432x288 with 1 Axes>"
      ]
     },
     "metadata": {},
     "output_type": "display_data"
    }
   ],
   "source": [
    "# Visualization:\n",
    "import networkx as nx\n",
    "import matplotlib.pyplot as plt\n",
    "\n",
    "# Init Graph, nodes, and positions\n",
    "G = nx.Graph()\n",
    "G.add_nodes_from(myVRPGraph.nodes)\n",
    "pos = {}\n",
    "for n in myVRPGraph.nodes:\n",
    "    pos[n] = list(n)\n",
    "    \n",
    "# Add edges in optimal solution:\n",
    "for i in range(iMax):\n",
    "    for j in range(jMax):\n",
    "        if solver.Value(xVars[i][j]) == 1:\n",
    "            G.add_edge(myVRPGraph.nodes[i], myVRPGraph.nodes[j])\n",
    "\n",
    "# Draw graph\n",
    "subax1 = plt.subplot(121)\n",
    "nx.draw(G, pos, with_labels=True, font_weight='bold')\n"
   ]
  },
  {
   "cell_type": "code",
   "execution_count": null,
   "id": "0a402efd",
   "metadata": {},
   "outputs": [],
   "source": []
  }
 ],
 "metadata": {
  "kernelspec": {
   "display_name": "Python 3 (ipykernel)",
   "language": "python",
   "name": "python3"
  },
  "language_info": {
   "codemirror_mode": {
    "name": "ipython",
    "version": 3
   },
   "file_extension": ".py",
   "mimetype": "text/x-python",
   "name": "python",
   "nbconvert_exporter": "python",
   "pygments_lexer": "ipython3",
   "version": "3.8.12"
  }
 },
 "nbformat": 4,
 "nbformat_minor": 5
}
